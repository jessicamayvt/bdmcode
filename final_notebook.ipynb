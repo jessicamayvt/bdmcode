{
 "cells": [
  {
   "cell_type": "markdown",
   "metadata": {},
   "source": [
    "In this notebook, we will analyze NBM data and answer the following questions: \n",
    "1. How many unique BSLs are there in the latest version of each major release in Virginia?\n",
    "2. How many ISPs provide service in Tennessee?\n",
    "3. How many unserved BSLs are in Virginia in the latest version of each major release? An “unserved” BSL is one that does not have service exceeding 25Mbps download speed and 3Mbps upload speed from any ISP, ignoring ISPs that provide service to the BSL using any form of satellite Internet or *unlicensed* fixed wireless technology. They must also have either residential or “both” service and the service must be classified as “low latency”. Hint: you’ll want to filter based on technology code, download and upload speeds, business/residential code (values R and X), as well as the low latency flag."
   ]
  },
  {
   "cell_type": "code",
   "execution_count": null,
   "metadata": {},
   "outputs": [],
   "source": [
    "# Import depednecies and read files. \n",
    "import glob\n",
    "import os\n",
    "import re\n",
    "import pandas as pd\n",
    "import us\n",
    "import sys\n",
    "from get_parquet  import *\n",
    "from categorize_bsl import *\n",
    "from multiprocessing import Pool\n",
    "import zipfile\n",
    "import pyarrow\n",
    "import pyarrow.parquet as pyarrow_pq\n",
    "import gc"
   ]
  },
  {
   "cell_type": "markdown",
   "metadata": {},
   "source": [
    "Question 1: How many unique BSLs are there in the latest version of each major release in Virginia?"
   ]
  },
  {
   "cell_type": "code",
   "execution_count": null,
   "metadata": {},
   "outputs": [
    {
     "ename": "NameError",
     "evalue": "name 'find_all_bsl_in_state' is not defined",
     "output_type": "error",
     "traceback": [
      "\u001b[0;31m---------------------------------------------------------------------------\u001b[0m",
      "\u001b[0;31mNameError\u001b[0m                                 Traceback (most recent call last)",
      "Cell \u001b[0;32mIn[21], line 8\u001b[0m\n\u001b[1;32m      5\u001b[0m index \u001b[38;5;241m=\u001b[39m \u001b[38;5;241m0\u001b[39m\n\u001b[1;32m      7\u001b[0m \u001b[38;5;28;01mfor\u001b[39;00m major \u001b[38;5;129;01min\u001b[39;00m majors:\n\u001b[0;32m----> 8\u001b[0m     bsl_set \u001b[38;5;241m=\u001b[39m \u001b[43mfind_all_bsl_in_state\u001b[49m(\u001b[38;5;241m51\u001b[39m, major, major_minor_dict[major])\n\u001b[1;32m      9\u001b[0m     unique_bsl_count_per_year[index] \u001b[38;5;241m=\u001b[39m \u001b[38;5;28mlen\u001b[39m(bsl_set)\n\u001b[1;32m     10\u001b[0m     \u001b[38;5;28mprint\u001b[39m(\u001b[38;5;124mf\u001b[39m\u001b[38;5;124m\"\u001b[39m\u001b[38;5;124mFor major release \u001b[39m\u001b[38;5;132;01m{\u001b[39;00mmajor\u001b[38;5;132;01m}\u001b[39;00m\u001b[38;5;124m and minor release \u001b[39m\u001b[38;5;132;01m{\u001b[39;00mmajor_minor_dict[major]\u001b[38;5;132;01m}\u001b[39;00m\u001b[38;5;124m, there are \u001b[39m\u001b[38;5;132;01m{\u001b[39;00m\u001b[38;5;28mlen\u001b[39m(bsl_set)\u001b[38;5;132;01m}\u001b[39;00m\u001b[38;5;124m unique BSLs\u001b[39m\u001b[38;5;124m\"\u001b[39m)\n",
      "\u001b[0;31mNameError\u001b[0m: name 'find_all_bsl_in_state' is not defined"
     ]
    }
   ],
   "source": [
    "# jupyter won't import this stuff for me, idk why, but it works when i run it in my python main\n",
    "\n",
    "majors = [20220630, 20221231, 20230630, 20231231, 20240630]\n",
    "minors = [20240510, 20241104, 20250210, 20250201, 20250218]\n",
    "major_minor_dict = dict(zip(majors, minors))\n",
    "unique_bsl_count_per_year = [0] * 5\n",
    "index = 0\n",
    "\n",
    "for major in majors:\n",
    "    bsl_set = find_all_bsl_in_state(51, major, major_minor_dict[major])\n",
    "    unique_bsl_count_per_year[index] = len(bsl_set)\n",
    "    print(f\"For major release {major} and minor release {major_minor_dict[major]}, there are {len(bsl_set)} unique BSLs\")\n",
    "    index += 1\n",
    "\n",
    "    "
   ]
  },
  {
   "cell_type": "markdown",
   "metadata": {},
   "source": [
    "Question 3: How many unserved BSLs are in Virginia in the latest version of each major release? An “unserved” BSL is one that does not have service exceeding 25Mbps download speed and 3Mbps upload speed from any ISP, ignoring ISPs that provide service to the BSL using any form of satellite Internet or unlicensed fixed wireless technology. They must also have either residential or “both” service and the service must be classified as “low latency”. Hint: you’ll want to filter based on technology code, download and upload speeds, business/residential code (values R and X), as well as the low latency flag."
   ]
  },
  {
   "cell_type": "code",
   "execution_count": null,
   "metadata": {},
   "outputs": [
    {
     "ename": "ImportError",
     "evalue": "cannot import name 'find_all_bsl_in_state' from 'libnbm.categorize_bsl' (/home/jessicamay/libnbm/libnbm/categorize_bsl.py)",
     "output_type": "error",
     "traceback": [
      "\u001b[0;31m---------------------------------------------------------------------------\u001b[0m",
      "\u001b[0;31mImportError\u001b[0m                               Traceback (most recent call last)",
      "Cell \u001b[0;32mIn[20], line 2\u001b[0m\n\u001b[1;32m      1\u001b[0m \u001b[38;5;66;03m# # Cerate a dictionary of major releases and their most recent minor release\u001b[39;00m\n\u001b[0;32m----> 2\u001b[0m \u001b[38;5;28;01mfrom\u001b[39;00m\u001b[38;5;250m \u001b[39m\u001b[38;5;21;01mlibnbm\u001b[39;00m\u001b[38;5;21;01m.\u001b[39;00m\u001b[38;5;21;01mcategorize_bsl\u001b[39;00m\u001b[38;5;250m \u001b[39m\u001b[38;5;28;01mimport\u001b[39;00m find_all_bsl_in_state\n\u001b[1;32m      4\u001b[0m majors \u001b[38;5;241m=\u001b[39m [\u001b[38;5;241m20220630\u001b[39m, \u001b[38;5;241m20221231\u001b[39m, \u001b[38;5;241m20230630\u001b[39m, \u001b[38;5;241m20231231\u001b[39m, \u001b[38;5;241m20240630\u001b[39m]\n\u001b[1;32m      5\u001b[0m minors \u001b[38;5;241m=\u001b[39m [\u001b[38;5;241m20240510\u001b[39m, \u001b[38;5;241m20241104\u001b[39m, \u001b[38;5;241m20250210\u001b[39m, \u001b[38;5;241m20250201\u001b[39m, \u001b[38;5;241m20250218\u001b[39m]\n",
      "\u001b[0;31mImportError\u001b[0m: cannot import name 'find_all_bsl_in_state' from 'libnbm.categorize_bsl' (/home/jessicamay/libnbm/libnbm/categorize_bsl.py)"
     ]
    }
   ],
   "source": [
    "# jupyter won't import this stuff for me, idk why, but it works when i run it in my python main\n",
    "\n",
    "# Create a dictionary \n",
    "majors = [20220630, 20221231, 20230630, 20231231, 20240630]\n",
    "minors = [20240510, 20241104, 20250210, 20250201, 20250218]\n",
    "major_minor_dict = dict(zip(majors, minors))\n",
    "count_per_year = [0] * 5\n",
    "index = 0\n",
    "\n",
    "# probably too hidden, probably need to show more of the bts of how it works \n",
    "count_unserved_bsl_in_virginia(majors, major_minor_dict)\n"
   ]
  },
  {
   "cell_type": "code",
   "execution_count": null,
   "metadata": {},
   "outputs": [],
   "source": []
  }
 ],
 "metadata": {
  "kernelspec": {
   "display_name": ".venv",
   "language": "python",
   "name": "python3"
  },
  "language_info": {
   "codemirror_mode": {
    "name": "ipython",
    "version": 3
   },
   "file_extension": ".py",
   "mimetype": "text/x-python",
   "name": "python",
   "nbconvert_exporter": "python",
   "pygments_lexer": "ipython3",
   "version": "3.10.12"
  }
 },
 "nbformat": 4,
 "nbformat_minor": 2
}
