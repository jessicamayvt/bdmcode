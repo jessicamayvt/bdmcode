{
 "cells": [
  {
   "cell_type": "markdown",
   "metadata": {},
   "source": [
    "In this notebook, we will analyze NBM data and answer the following questions: \n",
    "1. How many unique BSLs are there in the latest version of each major release in Virginia?\n",
    "2. How many ISPs provide service in Tennessee?\n",
    "3. How many unserved BSLs are in Virginia in the latest version of each major release? An “unserved” BSL is one that does not have service exceeding 25Mbps download speed and 3Mbps upload speed from any ISP, ignoring ISPs that provide service to the BSL using any form of satellite Internet or *unlicensed* fixed wireless technology. They must also have either residential or “both” service and the service must be classified as “low latency”. Hint: you’ll want to filter based on technology code, download and upload speeds, business/residential code (values R and X), as well as the low latency flag."
   ]
  },
  {
   "cell_type": "code",
   "execution_count": 11,
   "metadata": {},
   "outputs": [],
   "source": [
    "# Import depednecies and read files. \n",
    "from get_parquet  import *\n",
    "from categorize_bsl import *\n",
    "from get_df import *\n",
    "import concurrent.futures\n",
    "import numpy as np\n",
    "import pandas as pd\n",
    "from libnbm import *\n"
   ]
  },
  {
   "cell_type": "markdown",
   "metadata": {},
   "source": [
    "Question 1: How many unique BSLs are there in the latest version of each major release in Virginia?"
   ]
  },
  {
   "cell_type": "code",
   "execution_count": 13,
   "metadata": {},
   "outputs": [
    {
     "name": "stdout",
     "output_type": "stream",
     "text": [
      "Here are the number of unique BSLs in the latest version of each major release in Virginia: \n",
      "\n",
      "For major release 20220630 and minor release 20240510, there are 2840311 unique BSLs\n",
      "For major release 20221231 and minor release 20241104, there are 2914429 unique BSLs\n",
      "For major release 20230630 and minor release 20250210, there are 2920197 unique BSLs\n",
      "For major release 20231231 and minor release 20250201, there are 2907830 unique BSLs\n",
      "For major release 20240630 and minor release 20250218, there are 2911038 unique BSLs\n"
     ]
    }
   ],
   "source": [
    "majors = [20220630, 20221231, 20230630, 20231231, 20240630]\n",
    "minors = [20240510, 20241104, 20250210, 20250201, 20250218]\n",
    "major_minor_dict = dict(zip(majors, minors))\n",
    "\n",
    "# def return_df(major, minor, fips_code):\n",
    "#     DATA_BASEDIR = '/home/playpen/data/nbm_evolution/data/nbm/bdc_single_file'\n",
    "#     columns_to_read = [\"location_id\", \"max_advertised_download_speed\", \n",
    "#                        \"max_advertised_upload_speed\", \"technology\", \n",
    "#                        \"low_latency\", \"business_residential_code\"]\n",
    "#     table = pyarrow_pq.read_pandas(f\"{DATA_BASEDIR}/{major}/{minor}/bdc_{str(fips_code).zfill(2)}_single_nbm.parquet\", columns = columns_to_read, use_threads=True)\n",
    "#     return table.to_pandas()\n",
    "\n",
    "def return_df(major, minor, fips_code):\n",
    "    DATA_BASEDIR = '/home/playpen/data/nbm_evolution/data/nbm/bdc_single_file'\n",
    "    table = pyarrow_pq.read_pandas(f\"{DATA_BASEDIR}/{major}/{minor}/bdc_{str(fips_code).zfill(2)}_single_nbm.parquet\", use_threads=True)\n",
    "    return table.to_pandas()\n",
    "\n",
    "def get_bsl_count(major):\n",
    "    df = return_df(major, major_minor_dict[major], 51)\n",
    "    unique_locs_count = df['location_id'].nunique()\n",
    "    return(f\"For major release {major} and minor release {major_minor_dict[major]}, there are {unique_locs_count} unique BSLs\")\n",
    "\n",
    "result = []\n",
    "with concurrent.futures.ProcessPoolExecutor(max_workers=10) as executor:\n",
    "    result = executor.map(get_bsl_count, majors)\n",
    "\n",
    "print(\"Here are the number of unique BSLs in the latest version of each major release in Virginia: \\n\")\n",
    "for r in result: \n",
    "    print(r)"
   ]
  },
  {
   "cell_type": "markdown",
   "metadata": {},
   "source": [
    "Question 2: How many ISPs provide service in Tennessee?"
   ]
  },
  {
   "cell_type": "code",
   "execution_count": 15,
   "metadata": {},
   "outputs": [
    {
     "name": "stdout",
     "output_type": "stream",
     "text": [
      "Here are the number of unique ISPs in the latest version of each major release in Tennessee: \n",
      "\n",
      "For major release 20220630 and minor release 20240510, there are 108 unique ISPs\n",
      "For major release 20221231 and minor release 20241104, there are 109 unique ISPs\n",
      "For major release 20230630 and minor release 20250210, there are 109 unique ISPs\n",
      "For major release 20231231 and minor release 20250201, there are 120 unique ISPs\n",
      "For major release 20240630 and minor release 20250218, there are 116 unique ISPs\n"
     ]
    }
   ],
   "source": [
    "majors = [20220630, 20221231, 20230630, 20231231, 20240630]\n",
    "minors = [20240510, 20241104, 20250210, 20250201, 20250218]\n",
    "major_minor_dict = dict(zip(majors, minors))\n",
    "\n",
    "# def return_df(major, minor, fips_code):\n",
    "#     DATA_BASEDIR = '/home/playpen/data/nbm_evolution/data/nbm/bdc_single_file'\n",
    "#     table = pyarrow_pq.read_pandas(f\"{DATA_BASEDIR}/{major}/{minor}/bdc_{str(fips_code).zfill(2)}_single_nbm.parquet\", use_threads=True)\n",
    "#     return table.to_pandas()\n",
    "\n",
    "def count_brand_name(major):\n",
    "    df = return_df(major, major_minor_dict[major], 47)\n",
    "    return f\"For major release {major} and minor release {major_minor_dict[major]}, there are {df['brand_name'].nunique()} unique ISPs\"\n",
    "\n",
    "\n",
    "with concurrent.futures.ProcessPoolExecutor(max_workers=10) as executor:\n",
    "    result = executor.map(count_brand_name, majors)\n",
    "\n",
    "print(\"Here are the number of unique ISPs in the latest version of each major release in Tennessee: \\n\")\n",
    "\n",
    "for r in result: \n",
    "    print(r)"
   ]
  },
  {
   "cell_type": "markdown",
   "metadata": {},
   "source": [
    "Question 3: How many unserved BSLs are in Virginia in the latest version of each major release? An “unserved” BSL is one that does not have service exceeding 25Mbps download speed and 3Mbps upload speed from any ISP, ignoring ISPs that provide service to the BSL using any form of satellite Internet or unlicensed fixed wireless technology. They must also have either residential or “both” service and the service must be classified as “low latency”. Hint: you’ll want to filter based on technology code, download and upload speeds, business/residential code (values R and X), as well as the low latency flag."
   ]
  },
  {
   "cell_type": "code",
   "execution_count": 16,
   "metadata": {},
   "outputs": [
    {
     "name": "stdout",
     "output_type": "stream",
     "text": [
      "Here are the number of unserved BSLs in the latest version of each major release in Virginia: \n",
      "\n",
      "For major release 20220630 and minor release 20240510, there are 367789 unserved BSLs\n",
      "For major release 20221231 and minor release 20241104, there are 373066 unserved BSLs\n",
      "For major release 20230630 and minor release 20250210, there are 368998 unserved BSLs\n",
      "For major release 20231231 and minor release 20250201, there are 305541 unserved BSLs\n",
      "For major release 20240630 and minor release 20250218, there are 276281 unserved BSLs\n"
     ]
    }
   ],
   "source": [
    "# Define directory and mappings\n",
    "DATA_BASEDIR = \"/home/playpen/data/nbm_evolution/data/nbm/bdc_single_file\"\n",
    "majors = [20220630, 20221231, 20230630, 20231231, 20240630]\n",
    "minors = [20240510, 20241104, 20250210, 20250201, 20250218]\n",
    "major_minor_dict = dict(zip(majors, minors))\n",
    "\n",
    "# def return_df(major, minor, fips_code):\n",
    "#     DATA_BASEDIR = '/home/playpen/data/nbm_evolution/data/nbm/bdc_single_file'\n",
    "#     columns_to_read = [\"location_id\", \"max_advertised_download_speed\", \n",
    "#                        \"max_advertised_upload_speed\", \"technology\", \n",
    "#                        \"low_latency\", \"business_residential_code\"]\n",
    "#     table = pyarrow_pq.read_pandas(f\"{DATA_BASEDIR}/{major}/{minor}/bdc_{str(fips_code).zfill(2)}_single_nbm.parquet\", columns = columns_to_read, use_threads=True)\n",
    "#     return table.to_pandas()\n",
    "\n",
    "# def df_classify_bsl(df):\n",
    "#     conditions = [\n",
    "#         (df[\"technology\"].isin(valid_technologies)) & \n",
    "#         (df[\"business_residential_code\"].isin(valid_res_codes)) & \n",
    "#         (df[\"low_latency\"] == 1) & \n",
    "#         (df['max_advertised_download_speed'] >= 100) & \n",
    "#         (df['max_advertised_upload_speed'] >= 20),\n",
    "        \n",
    "#         (df[\"technology\"].isin(valid_technologies)) & \n",
    "#         (df[\"business_residential_code\"].isin(valid_res_codes)) & \n",
    "#         (df[\"low_latency\"] == 1) & \n",
    "#         (df['max_advertised_download_speed'] >= 25) & \n",
    "#         (df['max_advertised_upload_speed'] >= 3)\n",
    "#     ]\n",
    "\n",
    "#     choices = ['served', 'underserved']\n",
    "    \n",
    "#     df['status'] = np.select(conditions, choices, default='unserved')\n",
    "#     return df\n",
    "\n",
    "# def get_best_status(df):\n",
    "#     df = df_classify_bsl(df)\n",
    "#     df['status'] = pd.Categorical(df['status'], categories=['served', 'underserved', 'unserved'], ordered=True)\n",
    "#     best_status_df = df.loc[df.groupby('location_id')['status'].idxmin(), ['location_id', 'status']]\n",
    "#     return best_status_df\n",
    "\n",
    "def unserved_per_major(major):\n",
    "    df = return_df(major, major_minor_dict[major], 51)\n",
    "    new_df = get_best_status(df)\n",
    "    unserved_count = new_df['status'].value_counts().get('unserved', 0)\n",
    "    return (f\"For major release {major} and minor release {major_minor_dict[major]}, there are {unserved_count} unserved BSLs\")\n",
    "\n",
    "with concurrent.futures.ProcessPoolExecutor(max_workers=10) as executor:\n",
    "    result = executor.map(unserved_per_major, majors)\n",
    "\n",
    "print(\"Here are the number of unserved BSLs in the latest version of each major release in Virginia: \\n\")\n",
    "\n",
    "for r in result: \n",
    "    print(r)"
   ]
  }
 ],
 "metadata": {
  "kernelspec": {
   "display_name": ".venv",
   "language": "python",
   "name": "python3"
  },
  "language_info": {
   "codemirror_mode": {
    "name": "ipython",
    "version": 3
   },
   "file_extension": ".py",
   "mimetype": "text/x-python",
   "name": "python",
   "nbconvert_exporter": "python",
   "pygments_lexer": "ipython3",
   "version": "3.10.12"
  }
 },
 "nbformat": 4,
 "nbformat_minor": 2
}
